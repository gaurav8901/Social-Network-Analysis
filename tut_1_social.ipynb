{
  "nbformat": 4,
  "nbformat_minor": 0,
  "metadata": {
    "colab": {
      "name": "tut_1_social.ipynb",
      "provenance": [],
      "mount_file_id": "1X38I6qLwtkGyoRlcjUciDPwryuLY00wO",
      "authorship_tag": "ABX9TyNbe8zQ/DO9WImIAybpwuX3",
      "include_colab_link": true
    },
    "kernelspec": {
      "name": "python3",
      "display_name": "Python 3"
    },
    "language_info": {
      "name": "python"
    }
  },
  "cells": [
    {
      "cell_type": "markdown",
      "metadata": {
        "id": "view-in-github",
        "colab_type": "text"
      },
      "source": [
        "<a href=\"https://colab.research.google.com/github/gaurav8901/Social-Network-Analysis/blob/main/tut_1_social.ipynb\" target=\"_parent\"><img src=\"https://colab.research.google.com/assets/colab-badge.svg\" alt=\"Open In Colab\"/></a>"
      ]
    },
    {
      "cell_type": "code",
      "execution_count": 1,
      "metadata": {
        "id": "bIoicGTH6tK5"
      },
      "outputs": [],
      "source": [
        "# from google.colab import drive\n",
        "# mountpoint = \"./content/gdrive\"\n",
        "# DATADIR = os.path.join(mountpoint,\"Mydrive\")\n",
        "# drive.mount(mountpoint)"
      ]
    },
    {
      "cell_type": "code",
      "source": [
        "!ls"
      ],
      "metadata": {
        "colab": {
          "base_uri": "https://localhost:8080/"
        },
        "id": "UUldz4j57uri",
        "outputId": "6bf76b93-5909-4f35-9776-a4f78661cb8f"
      },
      "execution_count": 9,
      "outputs": [
        {
          "output_type": "stream",
          "name": "stdout",
          "text": [
            "drive  sample_data\n"
          ]
        }
      ]
    },
    {
      "cell_type": "code",
      "source": [
        "%cd drive/MyDrive/sem_7_2022/NPTEL"
      ],
      "metadata": {
        "colab": {
          "base_uri": "https://localhost:8080/"
        },
        "id": "b4asRg_f7v_b",
        "outputId": "657f353b-94b3-45f7-a5fb-9b5d99d2e201"
      },
      "execution_count": 10,
      "outputs": [
        {
          "output_type": "stream",
          "name": "stdout",
          "text": [
            "/content/drive/MyDrive/sem_7_2022/NPTEL\n"
          ]
        }
      ]
    },
    {
      "cell_type": "code",
      "source": [
        "!pwd"
      ],
      "metadata": {
        "colab": {
          "base_uri": "https://localhost:8080/"
        },
        "id": "RkuHg7Fi8f2-",
        "outputId": "d0076e71-8b22-450f-b715-de60770215f0"
      },
      "execution_count": 11,
      "outputs": [
        {
          "output_type": "stream",
          "name": "stdout",
          "text": [
            "/content/drive/MyDrive/sem_7_2022/NPTEL\n"
          ]
        }
      ]
    },
    {
      "cell_type": "code",
      "source": [
        "with open('sample1.txt','r') as f:\n",
        "  data = f.read()\n",
        "print(data)"
      ],
      "metadata": {
        "colab": {
          "base_uri": "https://localhost:8080/"
        },
        "id": "WkhHtzN09RuL",
        "outputId": "0b1122cd-bb3d-43d2-c26b-b0667d811070"
      },
      "execution_count": 13,
      "outputs": [
        {
          "output_type": "stream",
          "name": "stdout",
          "text": [
            "This is a sample file 1\n"
          ]
        }
      ]
    },
    {
      "cell_type": "code",
      "source": [
        "with open('sample2.txt','w') as f:\n",
        "  f.write('this file is with write permission')"
      ],
      "metadata": {
        "id": "g1A5Nlm59qgN"
      },
      "execution_count": 14,
      "outputs": []
    },
    {
      "cell_type": "code",
      "source": [
        "with open('sample2.txt','r') as f:\n",
        "  data = f.read()\n",
        "print(data)"
      ],
      "metadata": {
        "colab": {
          "base_uri": "https://localhost:8080/"
        },
        "id": "PTJXOGte90qS",
        "outputId": "e2e81f41-c8de-4e09-a14a-655a894b1c55"
      },
      "execution_count": 15,
      "outputs": [
        {
          "output_type": "stream",
          "name": "stdout",
          "text": [
            "this file is with write permission\n"
          ]
        }
      ]
    },
    {
      "cell_type": "code",
      "source": [
        "!ls"
      ],
      "metadata": {
        "colab": {
          "base_uri": "https://localhost:8080/"
        },
        "id": "7y9uqvNv9-a1",
        "outputId": "794796f2-07b2-43d2-f77d-b347b395cc3f"
      },
      "execution_count": 16,
      "outputs": [
        {
          "output_type": "stream",
          "name": "stdout",
          "text": [
            "sample1.txt  sample2.txt\n"
          ]
        }
      ]
    },
    {
      "cell_type": "markdown",
      "source": [
        "**Python Intro**"
      ],
      "metadata": {
        "id": "aFAmMQWM-1y7"
      }
    },
    {
      "cell_type": "code",
      "source": [
        "print('Hello World')"
      ],
      "metadata": {
        "colab": {
          "base_uri": "https://localhost:8080/"
        },
        "id": "6Uc9YVHW-CxD",
        "outputId": "fbe810b1-2dc3-4a4d-c78b-1b94edd8da32"
      },
      "execution_count": 17,
      "outputs": [
        {
          "output_type": "stream",
          "name": "stdout",
          "text": [
            "Hello World\n"
          ]
        }
      ]
    },
    {
      "cell_type": "code",
      "source": [
        "# Assign\n",
        "x = 2\n",
        "print(x)"
      ],
      "metadata": {
        "colab": {
          "base_uri": "https://localhost:8080/"
        },
        "id": "4Vbs0GJw-8Ti",
        "outputId": "072080b9-b465-48f9-c146-15222a3d55ba"
      },
      "execution_count": 18,
      "outputs": [
        {
          "output_type": "stream",
          "name": "stdout",
          "text": [
            "2\n"
          ]
        }
      ]
    },
    {
      "cell_type": "code",
      "source": [
        "x, y, z = 1,2,3\n",
        "print(x,y,z)"
      ],
      "metadata": {
        "colab": {
          "base_uri": "https://localhost:8080/"
        },
        "id": "8E8DNbN7-_Ii",
        "outputId": "9e78f37d-9317-4da6-d2fc-81df80ef192c"
      },
      "execution_count": 19,
      "outputs": [
        {
          "output_type": "stream",
          "name": "stdout",
          "text": [
            "1 2 3\n"
          ]
        }
      ]
    },
    {
      "cell_type": "code",
      "source": [
        "# Overwriting\n",
        "x = 1\n",
        "print(x)\n",
        "x = 'abc'\n",
        "print(x)"
      ],
      "metadata": {
        "colab": {
          "base_uri": "https://localhost:8080/"
        },
        "id": "yNRvsLdY_Eey",
        "outputId": "d3ac9835-b124-4628-cb38-4bdebecd816e"
      },
      "execution_count": 20,
      "outputs": [
        {
          "output_type": "stream",
          "name": "stdout",
          "text": [
            "1\n",
            "abc\n"
          ]
        }
      ]
    },
    {
      "cell_type": "code",
      "source": [
        "# Global variables : scope throughout the program\n",
        "x = 1\n",
        "\n",
        "def myfun():\n",
        "  print(x)\n",
        "\n",
        "myfun()"
      ],
      "metadata": {
        "colab": {
          "base_uri": "https://localhost:8080/"
        },
        "id": "C23BvGu-_igX",
        "outputId": "b2a12ced-ab5b-4c53-c1c0-fed05219581d"
      },
      "execution_count": 21,
      "outputs": [
        {
          "output_type": "stream",
          "name": "stdout",
          "text": [
            "1\n"
          ]
        }
      ]
    },
    {
      "cell_type": "code",
      "source": [
        "# Global variables : scope throughout the program\n",
        "x = 1\n",
        "\n",
        "def myfun():\n",
        "  # local scope\n",
        "  x = 2\n",
        "  print('inside: ', x)\n",
        "\n",
        "myfun()\n",
        "# global scope\n",
        "print('outside: ', x)"
      ],
      "metadata": {
        "colab": {
          "base_uri": "https://localhost:8080/"
        },
        "id": "06RMw5yx_7_V",
        "outputId": "b2bc65d7-6314-4183-d927-2bb798d6332d"
      },
      "execution_count": 22,
      "outputs": [
        {
          "output_type": "stream",
          "name": "stdout",
          "text": [
            "inside:  2\n",
            "outside:  1\n"
          ]
        }
      ]
    },
    {
      "cell_type": "code",
      "source": [
        "# Global variables : scope throughout the program\n",
        "x = 1\n",
        "\n",
        "def myfun():\n",
        "  global x  # now changing value of x, effects it globally\n",
        "  x = 2\n",
        "  print('inside: ', x)\n",
        "\n",
        "myfun()\n",
        "# global scope\n",
        "print('outside: ', x)"
      ],
      "metadata": {
        "colab": {
          "base_uri": "https://localhost:8080/"
        },
        "id": "KD_s8J9AAolD",
        "outputId": "59c268ff-e111-46bc-ebbd-66201d864b44"
      },
      "execution_count": 23,
      "outputs": [
        {
          "output_type": "stream",
          "name": "stdout",
          "text": [
            "inside:  2\n",
            "outside:  2\n"
          ]
        }
      ]
    },
    {
      "cell_type": "code",
      "source": [
        "# Global variables : scope throughout the program\n",
        "\n",
        "def myfun():\n",
        "  global x  # now changing value of x, effects it globally\n",
        "  x = 3\n",
        "  print('inside: ', x)\n",
        "\n",
        "myfun()\n",
        "# global scope\n",
        "print('outside: ', x)"
      ],
      "metadata": {
        "colab": {
          "base_uri": "https://localhost:8080/"
        },
        "id": "LZnns9ozA8M8",
        "outputId": "b31bae12-4981-4161-fbc8-015535946c7a"
      },
      "execution_count": 25,
      "outputs": [
        {
          "output_type": "stream",
          "name": "stdout",
          "text": [
            "inside:  3\n",
            "outside:  3\n"
          ]
        }
      ]
    },
    {
      "cell_type": "code",
      "source": [
        "# Comments : ignored by interpretor\n",
        "x = 3\n",
        "z = x ** 2\n",
        "print(z)"
      ],
      "metadata": {
        "colab": {
          "base_uri": "https://localhost:8080/"
        },
        "id": "Oa6VMyjnBjSz",
        "outputId": "a75601a4-4347-4260-913a-a0d9c0c8cd59"
      },
      "execution_count": 26,
      "outputs": [
        {
          "output_type": "stream",
          "name": "stdout",
          "text": [
            "9\n"
          ]
        }
      ]
    },
    {
      "cell_type": "code",
      "source": [
        "# Sequence data types like lists etc\n",
        "x = [1, 'abc', True]\n",
        "for i in x:\n",
        "  print(i)"
      ],
      "metadata": {
        "colab": {
          "base_uri": "https://localhost:8080/"
        },
        "id": "5970Sg9tB9Gd",
        "outputId": "75af8cc0-f0c1-44ed-e32a-be64b277ab66"
      },
      "execution_count": 27,
      "outputs": [
        {
          "output_type": "stream",
          "name": "stdout",
          "text": [
            "1\n",
            "abc\n",
            "True\n"
          ]
        }
      ]
    },
    {
      "cell_type": "code",
      "source": [
        "# Mapping between key-value pair using dictionaries\n",
        "x = {\n",
        "    'roll_no': 19,\n",
        "    'name': 'Gaurav',\n",
        "    'subjects': ['DA', 'Parallel', 'Social'],\n",
        "    'extra_class': False\n",
        "}\n",
        "for key,value in x.items():\n",
        "  print(key, ':', value)\n",
        "\n",
        "print('**********')\n",
        "print(\"x's roll_no is: \", x['roll_no'])"
      ],
      "metadata": {
        "colab": {
          "base_uri": "https://localhost:8080/"
        },
        "id": "7_0kTe0jCU3M",
        "outputId": "1058bc7b-6c09-43e1-c3b3-925ea5b82f61"
      },
      "execution_count": 33,
      "outputs": [
        {
          "output_type": "stream",
          "name": "stdout",
          "text": [
            "roll_no : 19\n",
            "name : Gaurav\n",
            "subjects : ['DA', 'Parallel', 'Social']\n",
            "extra_class : False\n",
            "**********\n",
            "x's roll_no is:  19\n"
          ]
        }
      ]
    },
    {
      "cell_type": "code",
      "source": [],
      "metadata": {
        "id": "roGZUwl9EPiP"
      },
      "execution_count": null,
      "outputs": []
    }
  ]
}